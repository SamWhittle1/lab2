{
  "nbformat": 4,
  "nbformat_minor": 0,
  "metadata": {
    "colab": {
      "name": "lab2.ipynb",
      "provenance": [],
      "authorship_tag": "ABX9TyN2ih06aSoTfwSd1MffDDyC",
      "include_colab_link": true
    },
    "kernelspec": {
      "name": "python3",
      "display_name": "Python 3"
    }
  },
  "cells": [
    {
      "cell_type": "markdown",
      "metadata": {
        "id": "view-in-github",
        "colab_type": "text"
      },
      "source": [
        "<a href=\"https://colab.research.google.com/github/SamWhittle1/lab2/blob/main/lab2.ipynb\" target=\"_parent\"><img src=\"https://colab.research.google.com/assets/colab-badge.svg\" alt=\"Open In Colab\"/></a>"
      ]
    },
    {
      "cell_type": "markdown",
      "metadata": {
        "id": "X2gZrwiDu3mt"
      },
      "source": [
        "![ER Diagram](https://raw.githubusercontent.com/SamWhittle1/lab2/main/images/lab2ERDiagram.PNG)"
      ]
    },
    {
      "cell_type": "markdown",
      "metadata": {
        "id": "Bctz6gnCu-6b"
      },
      "source": [
        "We designed our Entity Relationship Diagram for a pet shop based on six total entities: Pets, Enclosure, Food, Customers, AdoptionRecord, and FoodTransactionsRecord. We decided on these entities based on information provided from the assignment's details. For Pets, we decided that the ChipID would be the primary key as it is unique for each pet. For Enclosure, we decided on the primary key being EnclosureNumber. This is because unless a pet shop is thoroughly disorganized, an enclosure will only exist once so to speak. For Food, ItemIDNumber was our chosen primary key. This is because each Food item needs to be identified differently from another food item so that a Customer does not end up overpaying or underpaying etc. Speaking of Customers, we decided AccountNumber to be the primary key. Customers most likely do not want to get charged or billed for an item they did not purchase, thus their AccountNumber makes them their own unique identity. Customers adopt Pets and thus need a record of their adoption. For AdoptionRecord, the AdoptionNumber is the primary key. This way the pet shop is able to keep track of the pets that were adopted, and who adopted them. Finally, a FoodTransactionsRecord is created by Customers purchasing food. This helps keep track of who purchased what, and what they specifically purchased, to ensure that there are not any null items available for purchase."
      ]
    }
  ]
}